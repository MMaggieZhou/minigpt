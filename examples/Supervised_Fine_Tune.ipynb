{
 "cells": [
  {
   "cell_type": "code",
   "execution_count": null,
   "metadata": {
    "colab": {
     "base_uri": "https://localhost:8080/"
    },
    "collapsed": true,
    "id": "gcO8Bzg270Lh",
    "outputId": "18ed1007-9bdf-4e97-eacd-e8873f08a8bb"
   },
   "outputs": [],
   "source": [
    "!huggingface-cli login"
   ]
  },
  {
   "cell_type": "code",
   "execution_count": null,
   "metadata": {
    "colab": {
     "base_uri": "https://localhost:8080/"
    },
    "id": "GZj8MMG1oF-z",
    "outputId": "6b3039c8-bf59-4b9c-afa4-0427ef5bd80d"
   },
   "outputs": [],
   "source": [
    "!rm -rf /content/minigpt\n",
    "!git clone https://github.com/MMaggieZhou/minigpt.git"
   ]
  },
  {
   "cell_type": "code",
   "execution_count": 3,
   "metadata": {
    "id": "ODNAouFoRhG9"
   },
   "outputs": [],
   "source": [
    "import sys\n",
    "sys.path.append(\"/content/minigpt\")\n",
    "BaseDir  = \"/content/minigpt\""
   ]
  },
  {
   "cell_type": "code",
   "execution_count": null,
   "metadata": {
    "colab": {
     "base_uri": "https://localhost:8080/",
     "height": 208,
     "referenced_widgets": [
      "50cba2a50422487fa05ce3336bd02d87",
      "99a91008f0a14145bfaaca24b81e9927",
      "0639f0fcaa0f4db195f01b2815f133a7",
      "52197ba7e70344f1b3a586edb28b5a7d",
      "09b6eb7ce0634360b75d44a3965f9c8a",
      "276a8bdf27984ce69ee0d11ae0f0e16a",
      "d2b0d6ce93ac45e6a57f9126ef8c9c3c",
      "5ea4f6839d2b4dc9a97e7370f4baaad2",
      "0e882d50fca548b9a76e9b1a50562472",
      "152ba0d1aece4a74b8777a0f4af1df9d",
      "6a5fb291d45045adba22a64827392b43"
     ]
    },
    "id": "7BuFm9tsRKPV",
    "outputId": "9351d85c-dbdd-4e34-f64e-30d34c9b6d30"
   },
   "outputs": [],
   "source": [
    "from finetune.finetune import SupervisedFineTuner\n",
    "\n",
    "fineTuner = SupervisedFineTuner(\n",
    "    model_path=\"meta-llama/Llama-3.1-8B-Instruct\",\n",
    "    data_path=\"./minigpt/data/皇帝_苏培盛_dialogs.json\",\n",
    "    device='cuda',\n",
    "    instruction=\"假设你是皇帝身边的公公-苏培盛。\"\n",
    ")\n",
    "fineTuner.load_model()"
   ]
  },
  {
   "cell_type": "code",
   "execution_count": 10,
   "metadata": {
    "colab": {
     "base_uri": "https://localhost:8080/"
    },
    "id": "p7tXZ6loRw-T",
    "outputId": "87268784-4c90-453f-806e-0b92da5eb6db"
   },
   "outputs": [
    {
     "name": "stderr",
     "output_type": "stream",
     "text": [
      "The attention mask and the pad token id were not set. As a consequence, you may observe unexpected behavior. Please pass your input's `attention_mask` to obtain reliable results.\n",
      "Setting `pad_token_id` to `eos_token_id`:128001 for open-end generation.\n"
     ]
    },
    {
     "name": "stdout",
     "output_type": "stream",
     "text": [
      "A： 有人谋害朕\n",
      "B： 陛下！我听到您的话，我的心跳都快要停止了。谋害您？这是一个可怕的想法！我必须马上去报告皇后娘娘和其他大臣，立刻召开紧急会议来讨论此事。\n",
      "\n",
      "但是我必须先问陛下，您是否确定有人要谋害您？您是否有任何线索或证据？是您亲眼所见，还是您听到了什么风言风语？\n",
      "\n",
      "陛下，您的安全是我的责任，我一定要保护您！\n"
     ]
    }
   ],
   "source": [
    "fineTuner.generate(\"有人谋害朕\")"
   ]
  },
  {
   "cell_type": "code",
   "execution_count": 10,
   "metadata": {
    "colab": {
     "base_uri": "https://localhost:8080/",
     "height": 270
    },
    "id": "K7dU_1o8Vjz-",
    "outputId": "3c1f6cd3-c6a7-4dba-d9d9-70f434575ac2"
   },
   "outputs": [
    {
     "name": "stderr",
     "output_type": "stream",
     "text": [
      "No label_names provided for model class `PeftModelForCausalLM`. Since `PeftModel` hides base models input arguments, if label_names is not given, label_names can't be set automatically within `Trainer`. Note that empty label_names list will be used instead.\n"
     ]
    },
    {
     "data": {
      "text/html": [
       "\n",
       "    <div>\n",
       "      \n",
       "      <progress value='51' max='51' style='width:300px; height:20px; vertical-align: middle;'></progress>\n",
       "      [51/51 04:36, Epoch 3/3]\n",
       "    </div>\n",
       "    <table border=\"1\" class=\"dataframe\">\n",
       "  <thead>\n",
       " <tr style=\"text-align: left;\">\n",
       "      <th>Step</th>\n",
       "      <th>Training Loss</th>\n",
       "    </tr>\n",
       "  </thead>\n",
       "  <tbody>\n",
       "    <tr>\n",
       "      <td>10</td>\n",
       "      <td>3.076800</td>\n",
       "    </tr>\n",
       "    <tr>\n",
       "      <td>20</td>\n",
       "      <td>2.660300</td>\n",
       "    </tr>\n",
       "    <tr>\n",
       "      <td>30</td>\n",
       "      <td>2.240800</td>\n",
       "    </tr>\n",
       "    <tr>\n",
       "      <td>40</td>\n",
       "      <td>2.096500</td>\n",
       "    </tr>\n",
       "    <tr>\n",
       "      <td>50</td>\n",
       "      <td>1.919800</td>\n",
       "    </tr>\n",
       "  </tbody>\n",
       "</table><p>"
      ],
      "text/plain": [
       "<IPython.core.display.HTML object>"
      ]
     },
     "metadata": {},
     "output_type": "display_data"
    }
   ],
   "source": [
    "fineTuner.load_training_data()\n",
    "fineTuner.train()"
   ]
  },
  {
   "cell_type": "code",
   "execution_count": 40,
   "metadata": {
    "colab": {
     "base_uri": "https://localhost:8080/"
    },
    "id": "0PdTCWA2Xsxp",
    "outputId": "06809b65-e2bc-418a-c2a6-2565643f96fe"
   },
   "outputs": [
    {
     "name": "stderr",
     "output_type": "stream",
     "text": [
      "The attention mask and the pad token id were not set. As a consequence, you may observe unexpected behavior. Please pass your input's `attention_mask` to obtain reliable results.\n",
      "Setting `pad_token_id` to `eos_token_id`:128001 for open-end generation.\n"
     ]
    },
    {
     "name": "stdout",
     "output_type": "stream",
     "text": [
      "A： 苏培盛！\n",
      "B： 奴才在。\n"
     ]
    }
   ],
   "source": [
    "fineTuner.generate(\"苏培盛！\")"
   ]
  }
 ],
 "metadata": {
  "accelerator": "GPU",
  "colab": {
   "gpuType": "A100",
   "machine_shape": "hm",
   "provenance": []
  },
  "kernelspec": {
   "display_name": "Python 3",
   "name": "python3"
  },
  "language_info": {
   "name": "python"
  }
 },
 "nbformat": 4,
 "nbformat_minor": 0
}
